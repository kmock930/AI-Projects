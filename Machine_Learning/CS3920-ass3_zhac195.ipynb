{
 "cells": [
  {
   "cell_type": "markdown",
   "metadata": {},
   "source": [
    "Wine dataset"
   ]
  },
  {
   "cell_type": "code",
   "execution_count": 24,
   "metadata": {},
   "outputs": [],
   "source": [
    "import numpy as np\n",
    "from sklearn.datasets import load_wine\n",
    "wine=load_wine()"
   ]
  },
  {
   "cell_type": "code",
   "execution_count": 3,
   "metadata": {},
   "outputs": [],
   "source": [
    "from sklearn.model_selection import train_test_split\n",
    "x_train,x_test,y_train,y_test=train_test_split(wine['data'],wine['target'],random_state=3009)"
   ]
  },
  {
   "cell_type": "code",
   "execution_count": 4,
   "metadata": {},
   "outputs": [],
   "source": [
    "from sklearn.svm import SVC"
   ]
  },
  {
   "cell_type": "code",
   "execution_count": 5,
   "metadata": {
    "scrolled": true
   },
   "outputs": [
    {
     "data": {
      "text/plain": [
       "SVC()"
      ]
     },
     "execution_count": 5,
     "metadata": {},
     "output_type": "execute_result"
    }
   ],
   "source": [
    "svc=SVC()\n",
    "svc.fit(x_train,y_train)"
   ]
  },
  {
   "cell_type": "code",
   "execution_count": 6,
   "metadata": {},
   "outputs": [
    {
     "name": "stdout",
     "output_type": "stream",
     "text": [
      "Accuracy on training set:  0.713960113960114\n"
     ]
    }
   ],
   "source": [
    "from sklearn.model_selection import cross_val_score\n",
    "accuracy=np.mean(cross_val_score(svc,x_train,y_train))\n",
    "print(\"Accuracy on training set: \",accuracy)"
   ]
  },
  {
   "cell_type": "code",
   "execution_count": 7,
   "metadata": {},
   "outputs": [
    {
     "name": "stdout",
     "output_type": "stream",
     "text": [
      "Test error rate on the test set 0.35555555555555557\n",
      "Expected test error rate:  0.28603988603988595\n"
     ]
    }
   ],
   "source": [
    "y_pred=svc.predict(x_test)\n",
    "test_err_rate=np.mean(y_pred!=y_test)\n",
    "print(\"Test error rate on the test set\",test_err_rate)\n",
    "print(\"Expected test error rate: \",1-accuracy)"
   ]
  },
  {
   "cell_type": "markdown",
   "metadata": {},
   "source": [
    "Observations: The test error rate calculated is slightly higher than the expected one."
   ]
  },
  {
   "cell_type": "markdown",
   "metadata": {},
   "source": [
    "Create Pipeline:"
   ]
  },
  {
   "cell_type": "markdown",
   "metadata": {},
   "source": [
    "MinMaxScaler"
   ]
  },
  {
   "cell_type": "code",
   "execution_count": 8,
   "metadata": {},
   "outputs": [
    {
     "name": "stdout",
     "output_type": "stream",
     "text": [
      "Pipeline accuracy:  1.0\n",
      "Best cross-validation accuracy:  1.0\n",
      "Test set score:  0.9777777777777777\n",
      "Best parameters:  {'svc__C': 10, 'svc__gamma': 0.1}\n",
      "Test Error Rate:  0.0\n"
     ]
    }
   ],
   "source": [
    "from sklearn.preprocessing import MinMaxScaler\n",
    "from sklearn.svm import SVC\n",
    "from sklearn.pipeline import Pipeline\n",
    "from sklearn.pipeline import make_pipeline\n",
    "pipe=make_pipeline(MinMaxScaler(),SVC())\n",
    "pipe.fit(x_train,y_train)\n",
    "print(\"Pipeline accuracy: \",pipe.score(x_test,y_test))\n",
    "from sklearn.model_selection import GridSearchCV\n",
    "param_grid={'svc__C':[0.01,0.1,1,10,100],\n",
    "           'svc__gamma':[0.001,0.01,0.1,1,10,100]}\n",
    "grid=GridSearchCV(pipe,param_grid=param_grid,cv=5)\n",
    "grid.fit(x_train,y_train)\n",
    "print(\"Best cross-validation accuracy: \",grid.best_score_)\n",
    "print(\"Test set score: \",grid.score(x_test,y_test))\n",
    "print(\"Best parameters: \",grid.best_params_)\n",
    "\n",
    "y_pred=pipe.predict(x_test)\n",
    "print(\"Test Error Rate: \",np.mean(y_pred!=y_test))"
   ]
  },
  {
   "cell_type": "markdown",
   "metadata": {},
   "source": [
    "StandardScaler"
   ]
  },
  {
   "cell_type": "code",
   "execution_count": 9,
   "metadata": {},
   "outputs": [
    {
     "name": "stdout",
     "output_type": "stream",
     "text": [
      "Pipeline accuracy:  1.0\n",
      "Best cross-validation accuracy:  0.9925925925925926\n",
      "Test set score:  1.0\n",
      "Best parameters:  {'svc__C': 1, 'svc__gamma': 0.01}\n",
      "Test Error Rate:  0.0\n"
     ]
    }
   ],
   "source": [
    "from sklearn.preprocessing import StandardScaler\n",
    "from sklearn.svm import SVC\n",
    "from sklearn.pipeline import Pipeline\n",
    "from sklearn.pipeline import make_pipeline\n",
    "pipe=make_pipeline(StandardScaler(),SVC())\n",
    "pipe.fit(x_train,y_train)\n",
    "print(\"Pipeline accuracy: \",pipe.score(x_test,y_test))\n",
    "from sklearn.model_selection import GridSearchCV\n",
    "param_grid={'svc__C':[0.01,0.1,1,10,100],\n",
    "           'svc__gamma':[0.001,0.01,0.1,1,10,100]}\n",
    "grid=GridSearchCV(pipe,param_grid=param_grid,cv=5)\n",
    "grid.fit(x_train,y_train)\n",
    "print(\"Best cross-validation accuracy: \",grid.best_score_)\n",
    "print(\"Test set score: \",grid.score(x_test,y_test))\n",
    "print(\"Best parameters: \",grid.best_params_)\n",
    "\n",
    "y_pred=pipe.predict(x_test)\n",
    "print(\"Test Error Rate: \",np.mean(y_pred!=y_test))"
   ]
  },
  {
   "cell_type": "markdown",
   "metadata": {},
   "source": [
    "RobustScaler"
   ]
  },
  {
   "cell_type": "code",
   "execution_count": 10,
   "metadata": {},
   "outputs": [
    {
     "name": "stdout",
     "output_type": "stream",
     "text": [
      "Pipeline accuracy:  1.0\n",
      "Best cross-validation accuracy:  1.0\n",
      "Test set score:  0.9777777777777777\n",
      "Best parameters:  {'svc__C': 10, 'svc__gamma': 0.01}\n",
      "Test Error Rate:  0.0\n"
     ]
    }
   ],
   "source": [
    "from sklearn.preprocessing import RobustScaler\n",
    "from sklearn.svm import SVC\n",
    "from sklearn.pipeline import Pipeline\n",
    "from sklearn.pipeline import make_pipeline\n",
    "pipe=make_pipeline(RobustScaler(),SVC())\n",
    "pipe.fit(x_train,y_train)\n",
    "print(\"Pipeline accuracy: \",pipe.score(x_test,y_test))\n",
    "from sklearn.model_selection import GridSearchCV\n",
    "param_grid={'svc__C':[0.01,0.1,1,10,100],\n",
    "           'svc__gamma':[0.001,0.01,0.1,1,10,100]}\n",
    "grid=GridSearchCV(pipe,param_grid=param_grid,cv=5)\n",
    "grid.fit(x_train,y_train)\n",
    "print(\"Best cross-validation accuracy: \",grid.best_score_)\n",
    "print(\"Test set score: \",grid.score(x_test,y_test))\n",
    "print(\"Best parameters: \",grid.best_params_)\n",
    "\n",
    "y_pred=pipe.predict(x_test)\n",
    "print(\"Test Error Rate: \",np.mean(y_pred!=y_test))"
   ]
  },
  {
   "cell_type": "markdown",
   "metadata": {},
   "source": [
    "Normalizer"
   ]
  },
  {
   "cell_type": "code",
   "execution_count": 11,
   "metadata": {},
   "outputs": [
    {
     "name": "stdout",
     "output_type": "stream",
     "text": [
      "Pipeline accuracy:  0.5111111111111111\n",
      "Best cross-validation accuracy:  0.9544159544159545\n",
      "Test set score:  0.8666666666666667\n",
      "Best parameters:  {'svc__C': 100, 'svc__gamma': 100}\n",
      "Test Error Rate:  0.4888888888888889\n"
     ]
    }
   ],
   "source": [
    "from sklearn.preprocessing import Normalizer\n",
    "from sklearn.svm import SVC\n",
    "from sklearn.pipeline import Pipeline\n",
    "from sklearn.pipeline import make_pipeline\n",
    "pipe=make_pipeline(Normalizer(),SVC())\n",
    "pipe.fit(x_train,y_train)\n",
    "print(\"Pipeline accuracy: \",pipe.score(x_test,y_test))\n",
    "from sklearn.model_selection import GridSearchCV\n",
    "param_grid={'svc__C':[0.01,0.1,1,10,100],\n",
    "           'svc__gamma':[0.001,0.01,0.1,1,10,100]}\n",
    "grid=GridSearchCV(pipe,param_grid=param_grid,cv=5)\n",
    "grid.fit(x_train,y_train)\n",
    "print(\"Best cross-validation accuracy: \",grid.best_score_)\n",
    "print(\"Test set score: \",grid.score(x_test,y_test))\n",
    "print(\"Best parameters: \",grid.best_params_)\n",
    "\n",
    "y_pred=pipe.predict(x_test)\n",
    "print(\"Test Error Rate: \",np.mean(y_pred!=y_test))"
   ]
  },
  {
   "cell_type": "markdown",
   "metadata": {},
   "source": [
    "Conclusion: Normalizer works the best because it is less likely to overfit."
   ]
  },
  {
   "cell_type": "code",
   "execution_count": null,
   "metadata": {},
   "outputs": [],
   "source": []
  },
  {
   "cell_type": "code",
   "execution_count": null,
   "metadata": {},
   "outputs": [],
   "source": []
  },
  {
   "cell_type": "markdown",
   "metadata": {},
   "source": [
    "USPS dataset"
   ]
  },
  {
   "cell_type": "code",
   "execution_count": 16,
   "metadata": {},
   "outputs": [
    {
     "name": "stdout",
     "output_type": "stream",
     "text": [
      "(7291, 256) (7291,) (2007, 256) (2007,)\n"
     ]
    }
   ],
   "source": [
    "usps_train_data=np.genfromtxt(\"zip.train\",delimiter=\" \",usecols=np.arange(1,257))\n",
    "usps_train_target=np.genfromtxt(\"zip.train\",delimiter=\" \",usecols=0,dtype='int')\n",
    "usps_test_data=np.genfromtxt(\"zip.test\",delimiter=\" \",usecols=np.arange(1,257))\n",
    "usps_test_target=np.genfromtxt(\"zip.test\",delimiter=\" \",usecols=0,dtype='int')\n",
    "print(usps_train_data.shape,usps_train_target.shape,usps_test_data.shape,usps_test_target.shape)"
   ]
  },
  {
   "cell_type": "code",
   "execution_count": 17,
   "metadata": {},
   "outputs": [],
   "source": [
    "from sklearn.svm import SVC"
   ]
  },
  {
   "cell_type": "code",
   "execution_count": 18,
   "metadata": {},
   "outputs": [
    {
     "data": {
      "text/plain": [
       "SVC()"
      ]
     },
     "execution_count": 18,
     "metadata": {},
     "output_type": "execute_result"
    }
   ],
   "source": [
    "svc=SVC()\n",
    "svc.fit(usps_train_data,usps_train_target)"
   ]
  },
  {
   "cell_type": "code",
   "execution_count": 19,
   "metadata": {},
   "outputs": [
    {
     "name": "stdout",
     "output_type": "stream",
     "text": [
      "Accuracy on training set:  0.9758604414583903\n"
     ]
    }
   ],
   "source": [
    "from sklearn.model_selection import cross_val_score\n",
    "accuracy=np.mean(cross_val_score(svc,usps_train_data,usps_train_target))\n",
    "print(\"Accuracy on training set: \",accuracy)"
   ]
  },
  {
   "cell_type": "code",
   "execution_count": 20,
   "metadata": {},
   "outputs": [
    {
     "name": "stdout",
     "output_type": "stream",
     "text": [
      "Test error rate on the test set 0.05281514698555057\n",
      "Expected test error rate:  0.02413955854160965\n"
     ]
    }
   ],
   "source": [
    "y_pred=svc.predict(usps_test_data)\n",
    "test_err_rate=np.mean(y_pred!=usps_test_target)\n",
    "print(\"Test error rate on the test set\",test_err_rate)\n",
    "print(\"Expected test error rate: \",1-accuracy)"
   ]
  },
  {
   "cell_type": "markdown",
   "metadata": {},
   "source": [
    "Observations: The test error rate calculated is slightly higher than the expected one."
   ]
  },
  {
   "cell_type": "markdown",
   "metadata": {},
   "source": [
    "Create Pipeline:"
   ]
  },
  {
   "cell_type": "markdown",
   "metadata": {},
   "source": [
    "MinMaxScaler"
   ]
  },
  {
   "cell_type": "code",
   "execution_count": 29,
   "metadata": {},
   "outputs": [
    {
     "name": "stdout",
     "output_type": "stream",
     "text": [
      "Pipeline accuracy:  0.9471848530144494\n",
      "Best cross-validation accuracy:  0.9744885113072353\n",
      "Test set score:  0.9481813652217239\n",
      "Best parameters:  {'svc__C': 100, 'svc__gamma': 0.01}\n",
      "Test Error Rate:  0.05281514698555057\n"
     ]
    }
   ],
   "source": [
    "from sklearn.preprocessing import MinMaxScaler\n",
    "from sklearn.svm import SVC\n",
    "from sklearn.pipeline import Pipeline\n",
    "from sklearn.pipeline import make_pipeline\n",
    "usps_pipe=make_pipeline(MinMaxScaler(),SVC())\n",
    "usps_pipe.fit(usps_train_data,usps_train_target)\n",
    "print(\"Pipeline accuracy: \",usps_pipe.score(usps_test_data,usps_test_target))\n",
    "from sklearn.model_selection import GridSearchCV\n",
    "usps_param_grid={'svc__C':[0.01,0.1,1,10,100],\n",
    "           'svc__gamma':[0.001,0.01,0.1,1,10,100]}\n",
    "usps_grid=GridSearchCV(usps_pipe,param_grid=usps_param_grid,cv=5)\n",
    "usps_grid.fit(usps_train_data,usps_train_target)\n",
    "print(\"Best cross-validation accuracy: \",usps_grid.best_score_)\n",
    "print(\"Test set score: \",usps_grid.score(usps_test_data,usps_test_target))\n",
    "print(\"Best parameters: \",usps_grid.best_params_)\n",
    "\n",
    "usps_y_pred=usps_pipe.predict(usps_test_data)\n",
    "print(\"Test Error Rate: \",np.mean(usps_y_pred!=usps_test_target))"
   ]
  },
  {
   "cell_type": "markdown",
   "metadata": {},
   "source": [
    "StandardScaler"
   ]
  },
  {
   "cell_type": "code",
   "execution_count": 31,
   "metadata": {
    "scrolled": true
   },
   "outputs": [
    {
     "name": "stdout",
     "output_type": "stream",
     "text": [
      "Pipeline accuracy:  0.9377179870453413\n",
      "Best cross-validation accuracy:  0.9714710547371173\n",
      "Test set score:  0.9446935724962631\n",
      "Best parameters:  {'svc__C': 10, 'svc__gamma': 0.001}\n",
      "Test Error Rate:  0.0622820129546587\n"
     ]
    }
   ],
   "source": [
    "from sklearn.preprocessing import StandardScaler\n",
    "from sklearn.svm import SVC\n",
    "from sklearn.pipeline import Pipeline\n",
    "from sklearn.pipeline import make_pipeline\n",
    "usps_pipe=make_pipeline(StandardScaler(),SVC())\n",
    "usps_pipe.fit(usps_train_data,usps_train_target)\n",
    "print(\"Pipeline accuracy: \",usps_pipe.score(usps_test_data,usps_test_target))\n",
    "from sklearn.model_selection import GridSearchCV\n",
    "usps_param_grid={'svc__C':[0.01,0.1,1,10,100],\n",
    "           'svc__gamma':[0.001,0.01,0.1,1,10,100]}\n",
    "usps_grid=GridSearchCV(usps_pipe,param_grid=usps_param_grid,cv=5)\n",
    "usps_grid.fit(usps_train_data,usps_train_target)\n",
    "print(\"Best cross-validation accuracy: \",usps_grid.best_score_)\n",
    "print(\"Test set score: \",usps_grid.score(usps_test_data,usps_test_target))\n",
    "print(\"Best parameters: \",usps_grid.best_params_)\n",
    "\n",
    "usps_y_pred=usps_pipe.predict(usps_test_data)\n",
    "print(\"Test Error Rate: \",np.mean(usps_y_pred!=usps_test_target))"
   ]
  },
  {
   "cell_type": "markdown",
   "metadata": {},
   "source": [
    "RobustScaler"
   ]
  },
  {
   "cell_type": "code",
   "execution_count": 33,
   "metadata": {},
   "outputs": [
    {
     "name": "stdout",
     "output_type": "stream",
     "text": [
      "Pipeline accuracy:  0.8191330343796711\n",
      "Best cross-validation accuracy:  0.8964433425378264\n",
      "Test set score:  0.8729446935724963\n",
      "Best parameters:  {'svc__C': 100, 'svc__gamma': 0.001}\n",
      "Test Error Rate:  0.18086696562032886\n"
     ]
    }
   ],
   "source": [
    "from sklearn.preprocessing import RobustScaler\n",
    "from sklearn.svm import SVC\n",
    "from sklearn.pipeline import Pipeline\n",
    "from sklearn.pipeline import make_pipeline\n",
    "usps_pipe=make_pipeline(RobustScaler(),SVC())\n",
    "usps_pipe.fit(usps_train_data,usps_train_target)\n",
    "print(\"Pipeline accuracy: \",usps_pipe.score(usps_test_data,usps_test_target))\n",
    "from sklearn.model_selection import GridSearchCV\n",
    "usps_param_grid={'svc__C':[0.01,0.1,1,10,100],\n",
    "           'svc__gamma':[0.001,0.01,0.1,1,10,100]}\n",
    "usps_grid=GridSearchCV(usps_pipe,param_grid=usps_param_grid,cv=5)\n",
    "usps_grid.fit(usps_train_data,usps_train_target)\n",
    "print(\"Best cross-validation accuracy: \",usps_grid.best_score_)\n",
    "print(\"Test set score: \",usps_grid.score(usps_test_data,usps_test_target))\n",
    "print(\"Best parameters: \",usps_grid.best_params_)\n",
    "\n",
    "usps_y_pred=usps_pipe.predict(usps_test_data)\n",
    "print(\"Test Error Rate: \",np.mean(usps_y_pred!=usps_test_target))"
   ]
  },
  {
   "cell_type": "markdown",
   "metadata": {},
   "source": [
    "Normalizer"
   ]
  },
  {
   "cell_type": "code",
   "execution_count": 35,
   "metadata": {},
   "outputs": [
    {
     "name": "stdout",
     "output_type": "stream",
     "text": [
      "Pipeline accuracy:  0.9466865969108121\n",
      "Best cross-validation accuracy:  0.9784659993174196\n",
      "Test set score:  0.9491778774289985\n",
      "Best parameters:  {'svc__C': 10, 'svc__gamma': 1}\n",
      "Test Error Rate:  0.05331340308918784\n"
     ]
    }
   ],
   "source": [
    "from sklearn.preprocessing import Normalizer\n",
    "from sklearn.svm import SVC\n",
    "from sklearn.pipeline import Pipeline\n",
    "from sklearn.pipeline import make_pipeline\n",
    "usps_pipe=make_pipeline(Normalizer(),SVC())\n",
    "usps_pipe.fit(usps_train_data,usps_train_target)\n",
    "print(\"Pipeline accuracy: \",usps_pipe.score(usps_test_data,usps_test_target))\n",
    "from sklearn.model_selection import GridSearchCV\n",
    "usps_param_grid={'svc__C':[0.01,0.1,1,10,100],\n",
    "           'svc__gamma':[0.001,0.01,0.1,1,10,100]}\n",
    "usps_grid=GridSearchCV(usps_pipe,param_grid=usps_param_grid,cv=5)\n",
    "usps_grid.fit(usps_train_data,usps_train_target)\n",
    "print(\"Best cross-validation accuracy: \",usps_grid.best_score_)\n",
    "print(\"Test set score: \",usps_grid.score(usps_test_data,usps_test_target))\n",
    "print(\"Best parameters: \",usps_grid.best_params_)\n",
    "\n",
    "usps_y_pred=usps_pipe.predict(usps_test_data)\n",
    "print(\"Test Error Rate: \",np.mean(usps_y_pred!=usps_test_target))"
   ]
  },
  {
   "cell_type": "markdown",
   "metadata": {},
   "source": [
    "Conclusion: MinMaxScaler works the best for this dataset because it has higher accuracy."
   ]
  },
  {
   "cell_type": "code",
   "execution_count": null,
   "metadata": {},
   "outputs": [],
   "source": []
  },
  {
   "cell_type": "code",
   "execution_count": null,
   "metadata": {},
   "outputs": [],
   "source": []
  }
 ],
 "metadata": {
  "kernelspec": {
   "display_name": "Python 3",
   "language": "python",
   "name": "python3"
  },
  "language_info": {
   "codemirror_mode": {
    "name": "ipython",
    "version": 3
   },
   "file_extension": ".py",
   "mimetype": "text/x-python",
   "name": "python",
   "nbconvert_exporter": "python",
   "pygments_lexer": "ipython3",
   "version": "3.7.0"
  }
 },
 "nbformat": 4,
 "nbformat_minor": 4
}
